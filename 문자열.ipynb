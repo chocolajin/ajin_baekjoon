{
 "cells": [
  {
   "cell_type": "markdown",
   "id": "f8e5826b",
   "metadata": {},
   "source": [
    "# 문자열 자료형\n",
    "##### 문자열(string)이란, 문자, 단어 등으로 구성된 문자들의 집합을 의미한다.\n",
    "##### -immutable, iterable, sequence"
   ]
  },
  {
   "cell_type": "markdown",
   "id": "d475ac70",
   "metadata": {},
   "source": [
    "## 문자열 포매팅"
   ]
  },
  {
   "cell_type": "markdown",
   "id": "f2ea92cb",
   "metadata": {},
   "source": [
    "### f-문자열(f-string) 포매팅\n",
    "> * 파이썬 3.6 부터 지원하는 기능\n",
    "> * 문자열 앞에 f붙이고 문자열 안의 중괄호에 *변수명 직접 지정*\n",
    "> * *f'{변수},{변수}'*\n",
    "> * 표현식 지원(문자열 안에서 변수와 +,- 같은 수식을 함께 사용)\n",
    "> * 딕셔너리 포매팅 : {딕셔너리이름[key]}\n",
    "---------------------------------\n",
    "> * 정렬\n",
    ">  * 왼쪽 정렬     f'{\"문자열\":<전체길이}' \n",
    ">  * 오른쪽 정렬   f'{\"문자열\":>전체길이}' \n",
    ">  * 가운데 정렬   f'{\"문자열\":^전체길이}' \n",
    "----------------------------------\n",
    "> * 소수점 표현\n",
    ">  * f'{숫자:총자릿수,나타낼 소수점 자리 수(반올림)f}'\n",
    "> * {}를 표시하려면 두개를 동시에 써야함"
   ]
  },
  {
   "cell_type": "code",
   "execution_count": 75,
   "id": "aff4d65c",
   "metadata": {},
   "outputs": [
    {
     "data": {
      "text/plain": [
       "'THis is apple,banana'"
      ]
     },
     "execution_count": 75,
     "metadata": {},
     "output_type": "execute_result"
    }
   ],
   "source": [
    "a = 'apple'\n",
    "b = 'banana'\n",
    "f'THis is {a},{b}'"
   ]
  },
  {
   "cell_type": "code",
   "execution_count": 76,
   "id": "cd1f5b7a",
   "metadata": {},
   "outputs": [
    {
     "data": {
      "text/plain": [
       "'세잎클로버 잎은3개, 네잎클로버 잎은 4개'"
      ]
     },
     "execution_count": 76,
     "metadata": {},
     "output_type": "execute_result"
    }
   ],
   "source": [
    "a = 3\n",
    "f'세잎클로버 잎은{a}개, 네잎클로버 잎은 {a+1}개'\n",
    "#표현식 지원"
   ]
  },
  {
   "cell_type": "code",
   "execution_count": 79,
   "id": "13f55165",
   "metadata": {},
   "outputs": [
    {
     "data": {
      "text/plain": [
       "'여기는 한국의 서울 입니다.'"
      ]
     },
     "execution_count": 79,
     "metadata": {},
     "output_type": "execute_result"
    }
   ],
   "source": [
    "d = {'나라' : '한국' , '수도' : '서울'}\n",
    "f'여기는 {d[\"나라\"]}의 {d[\"수도\"]} 입니다.'\n",
    "#딕셔너리의 포매팅 방법 \"\"에 주의"
   ]
  },
  {
   "cell_type": "code",
   "execution_count": 82,
   "id": "add9934f",
   "metadata": {},
   "outputs": [
    {
     "data": {
      "text/plain": [
       "'love      '"
      ]
     },
     "execution_count": 82,
     "metadata": {},
     "output_type": "execute_result"
    }
   ],
   "source": [
    "f'{\"love\":<10}'\n",
    "# 전체길이 10, 왼쪽 정렬"
   ]
  },
  {
   "cell_type": "code",
   "execution_count": 84,
   "id": "343fcca7",
   "metadata": {},
   "outputs": [
    {
     "data": {
      "text/plain": [
       "'      love'"
      ]
     },
     "execution_count": 84,
     "metadata": {},
     "output_type": "execute_result"
    }
   ],
   "source": [
    "f'{\"love\":>10}'\n",
    "# 전체길이 10, 오른쪽 정렬"
   ]
  },
  {
   "cell_type": "code",
   "execution_count": 85,
   "id": "8ddff924",
   "metadata": {},
   "outputs": [
    {
     "data": {
      "text/plain": [
       "'   love   '"
      ]
     },
     "execution_count": 85,
     "metadata": {},
     "output_type": "execute_result"
    }
   ],
   "source": [
    "f'{\"love\":^10}'\n",
    "# 전체길이 10, 가운데 정렬"
   ]
  },
  {
   "cell_type": "code",
   "execution_count": 88,
   "id": "a1e471b4",
   "metadata": {},
   "outputs": [
    {
     "data": {
      "text/plain": [
       "'3.142'"
      ]
     },
     "execution_count": 88,
     "metadata": {},
     "output_type": "execute_result"
    }
   ],
   "source": [
    "pi = 3.141592\n",
    "f'{pi:0.3f}'\n",
    "#소수점 3자리 까지만 반올림하여 표현"
   ]
  },
  {
   "cell_type": "code",
   "execution_count": 89,
   "id": "b92a0f14",
   "metadata": {},
   "outputs": [
    {
     "data": {
      "text/plain": [
       "'     3.142'"
      ]
     },
     "execution_count": 89,
     "metadata": {},
     "output_type": "execute_result"
    }
   ],
   "source": [
    "pi = 3.141592\n",
    "f'{pi:10.3f}'\n",
    "#소수점 3자리 까지만 반올림하여 표현하고 총 자릿수를 10으로 맞춤"
   ]
  },
  {
   "cell_type": "code",
   "execution_count": 90,
   "id": "e3daac00",
   "metadata": {},
   "outputs": [
    {
     "data": {
      "text/plain": [
       "'{hi}'"
      ]
     },
     "execution_count": 90,
     "metadata": {},
     "output_type": "execute_result"
    }
   ],
   "source": [
    "f'{{hi}}'\n",
    "#{}를 쓰려면 두번 쓰기"
   ]
  },
  {
   "cell_type": "markdown",
   "id": "a04c3b6f",
   "metadata": {},
   "source": [
    "### format() 명령어 함수\n",
    "> * '{}'.format(데이터(어떤 데이터 타입도 가능))\n",
    "> * '{} {}'.format(데이터,데이터)\n",
    "> * 두 개 이상 값을 넣으면 인덱스 항목이 포맷함수 입력값으로 순서에 맞게 된다.\n",
    "> * 인덱스 대신 {name} 형태를 사용하면 name=value 형태의 입력값이 있어야 함.\n",
    "-------------------------------\n",
    "> * 정렬\n",
    ">  * 왼쪽정렬'{인덱스번호:<문자열 총 자릿수}'.format('치환될 문자열')\n",
    ">  * 오른쪽정렬'{인덱스번호:>문자열 총 자릿수}'.format('치환될 문자열')\n",
    ">  * 가운데정렬'{인덱스번호:^문자열 총 자릿수}'.format('치환될 문자열')\n",
    "> * 공백채우기\n",
    ">  * '{인덱스번호:채울문자 ^or>or< 문자열 총 자릿수}'.format('치환될 문자열')\n",
    "----------------------------------\n",
    "> * 소수점\n",
    ">  * '{인덱스번호:문자열 총 자릿수.나타낼 소수점 자릿수f}'.format(변수)"
   ]
  },
  {
   "cell_type": "code",
   "execution_count": 91,
   "id": "cb31afbc",
   "metadata": {},
   "outputs": [
    {
     "data": {
      "text/plain": [
       "'This is 3'"
      ]
     },
     "execution_count": 91,
     "metadata": {},
     "output_type": "execute_result"
    }
   ],
   "source": [
    "'This is {0}'.format(3)"
   ]
  },
  {
   "cell_type": "code",
   "execution_count": 92,
   "id": "064c5233",
   "metadata": {},
   "outputs": [
    {
     "data": {
      "text/plain": [
       "'This is 3'"
      ]
     },
     "execution_count": 92,
     "metadata": {},
     "output_type": "execute_result"
    }
   ],
   "source": [
    "'This is {0}'.format('3')"
   ]
  },
  {
   "cell_type": "code",
   "execution_count": 93,
   "id": "332662a7",
   "metadata": {},
   "outputs": [
    {
     "data": {
      "text/plain": [
       "'This is [3]'"
      ]
     },
     "execution_count": 93,
     "metadata": {},
     "output_type": "execute_result"
    }
   ],
   "source": [
    "'This is {0}'.format([3])"
   ]
  },
  {
   "cell_type": "code",
   "execution_count": 95,
   "id": "680560be",
   "metadata": {},
   "outputs": [
    {
     "data": {
      "text/plain": [
       "'This is 3'"
      ]
     },
     "execution_count": 95,
     "metadata": {},
     "output_type": "execute_result"
    }
   ],
   "source": [
    "'This is {0}'.format((3))"
   ]
  },
  {
   "cell_type": "code",
   "execution_count": 96,
   "id": "c219f2b4",
   "metadata": {},
   "outputs": [
    {
     "data": {
      "text/plain": [
       "'This is {3}'"
      ]
     },
     "execution_count": 96,
     "metadata": {},
     "output_type": "execute_result"
    }
   ],
   "source": [
    "'This is {0}'.format({3})"
   ]
  },
  {
   "cell_type": "code",
   "execution_count": 99,
   "id": "4aad1e3b",
   "metadata": {},
   "outputs": [
    {
     "data": {
      "text/plain": [
       "'This is three'"
      ]
     },
     "execution_count": 99,
     "metadata": {},
     "output_type": "execute_result"
    }
   ],
   "source": [
    "'This is {0}'.format('three')\n",
    "#어떤 데이터 타입도 가능"
   ]
  },
  {
   "cell_type": "code",
   "execution_count": 98,
   "id": "234077b4",
   "metadata": {},
   "outputs": [
    {
     "data": {
      "text/plain": [
       "'This is 3'"
      ]
     },
     "execution_count": 98,
     "metadata": {},
     "output_type": "execute_result"
    }
   ],
   "source": [
    "number = 3\n",
    "'This is {0}'.format(number)\n",
    "#변수 대입 가능"
   ]
  },
  {
   "cell_type": "code",
   "execution_count": 100,
   "id": "ed138078",
   "metadata": {},
   "outputs": [
    {
     "data": {
      "text/plain": [
       "'This is 7 and 88 and 100'"
      ]
     },
     "execution_count": 100,
     "metadata": {},
     "output_type": "execute_result"
    }
   ],
   "source": [
    "'This is {0} and {1} and {2}'.format(7,88,100)\n",
    "#두 개 이상 값 넣기"
   ]
  },
  {
   "cell_type": "code",
   "execution_count": 102,
   "id": "10046126",
   "metadata": {},
   "outputs": [
    {
     "data": {
      "text/plain": [
       "'This is 3 and three '"
      ]
     },
     "execution_count": 102,
     "metadata": {},
     "output_type": "execute_result"
    }
   ],
   "source": [
    "'This is {number} and {alpha} '.format(number=3,alpha='three')\n",
    "#이름으로 넣기"
   ]
  },
  {
   "cell_type": "code",
   "execution_count": 103,
   "id": "defa3fd8",
   "metadata": {},
   "outputs": [
    {
     "data": {
      "text/plain": [
       "'This is 3 and three '"
      ]
     },
     "execution_count": 103,
     "metadata": {},
     "output_type": "execute_result"
    }
   ],
   "source": [
    "'This is {0} and {alpha} '.format(3,alpha='three')\n",
    "#인덱스와 네임 혼용"
   ]
  },
  {
   "cell_type": "code",
   "execution_count": 109,
   "id": "3dc09bdd",
   "metadata": {},
   "outputs": [
    {
     "data": {
      "text/plain": [
       "'love      ,   life   ,      hate'"
      ]
     },
     "execution_count": 109,
     "metadata": {},
     "output_type": "execute_result"
    }
   ],
   "source": [
    "'{0:<10},{1:^10},{2:>10}'.format('love','life','hate')\n",
    "# 문자열 총 자릿 수는 10, 왼쪽 정렬, 가운데 정렬 ,오른쪽 정렬"
   ]
  },
  {
   "cell_type": "code",
   "execution_count": 111,
   "id": "3b90f316",
   "metadata": {},
   "outputs": [
    {
     "data": {
      "text/plain": [
       "'love♥♥♥♥♥♥,☆☆☆life☆☆☆,♣♣♣♣♣♣hate'"
      ]
     },
     "execution_count": 111,
     "metadata": {},
     "output_type": "execute_result"
    }
   ],
   "source": [
    "'{0:♥<10},{1:☆^10},{2:♣>10}'.format('love','life','hate')\n",
    "#공백 채우기"
   ]
  },
  {
   "cell_type": "code",
   "execution_count": 115,
   "id": "e0c5779f",
   "metadata": {},
   "outputs": [
    {
     "data": {
      "text/plain": [
       "'3.1416   ,     1.46,   0.1   '"
      ]
     },
     "execution_count": 115,
     "metadata": {},
     "output_type": "execute_result"
    }
   ],
   "source": [
    "#>  * '{인덱스번호:문자열 총 자릿수.나타낼 소수점 자릿수f}'.format(변수)\n",
    "pi = 3.141592\n",
    "a = 1.45678\n",
    "b = 0.12345\n",
    "'{0:<9.4f},{1:9.2f},{2:^9.1f}'.format(pi,a,b)\n",
    "#문자열 총 자릿수는 9, pi의 소수점 넷째 자리까지 반올림하고 왼쪽정렬하여 표현.\n",
    "#문자열 총 자릿수는 9, a의 소수점 둘째 자리까지 반올림하여 표현. 따로 정렬 지정안하면 오른쪽 정렬.\n",
    "#문자열 총 자릿수는 9, b의 소수점 첫째 자리까지 반올림하고 가운데정렬하여 표현."
   ]
  },
  {
   "cell_type": "markdown",
   "id": "164f60e5",
   "metadata": {},
   "source": [
    "## 문자열 관련 함수"
   ]
  },
  {
   "cell_type": "markdown",
   "id": "2688bcd8",
   "metadata": {},
   "source": [
    "### 문자 개수 세기 count\n",
    "> * 문자열.count('찾을 문자')\n",
    "> * 문자열 안에 찾는 문자의 개수를 돌려준다."
   ]
  },
  {
   "cell_type": "code",
   "execution_count": 1,
   "id": "caeb155c",
   "metadata": {},
   "outputs": [
    {
     "data": {
      "text/plain": [
       "2"
      ]
     },
     "execution_count": 1,
     "metadata": {},
     "output_type": "execute_result"
    }
   ],
   "source": [
    "a = 'hello'\n",
    "a.count('l')"
   ]
  },
  {
   "cell_type": "markdown",
   "id": "a268ac15",
   "metadata": {},
   "source": [
    "### 위치 알려주기\n",
    ">\n",
    "> * find\n",
    ">  * 문자열.find('찾을 문자')\n",
    ">  * 문자열에서 찾는 문자가 처음 나온 위치\n",
    ">  * 찾는 문자나 문자열이 존재하지 않는다면 *-1*을 반환한다.\n",
    "-------------------------------\n",
    "> * index\n",
    ">  * 문자열.index('찾을 문자')\n",
    ">  * 문자열에서 찾는 문자가 처음 나온 위치\n",
    ">  * 찾는 문자나 문자열이 존재하지 않는다면 *오류* 발생.\n"
   ]
  },
  {
   "cell_type": "code",
   "execution_count": 2,
   "id": "f6a3bfc7",
   "metadata": {},
   "outputs": [],
   "source": [
    "a = 'Hello World'"
   ]
  },
  {
   "cell_type": "code",
   "execution_count": 3,
   "id": "e67b532f",
   "metadata": {},
   "outputs": [
    {
     "data": {
      "text/plain": [
       "8"
      ]
     },
     "execution_count": 3,
     "metadata": {},
     "output_type": "execute_result"
    }
   ],
   "source": [
    "a.find('r')"
   ]
  },
  {
   "cell_type": "code",
   "execution_count": 4,
   "id": "fbb5f246",
   "metadata": {},
   "outputs": [
    {
     "data": {
      "text/plain": [
       "8"
      ]
     },
     "execution_count": 4,
     "metadata": {},
     "output_type": "execute_result"
    }
   ],
   "source": [
    "a.index('r')"
   ]
  },
  {
   "cell_type": "code",
   "execution_count": 5,
   "id": "cc7e4a7d",
   "metadata": {},
   "outputs": [
    {
     "data": {
      "text/plain": [
       "-1"
      ]
     },
     "execution_count": 5,
     "metadata": {},
     "output_type": "execute_result"
    }
   ],
   "source": [
    "a.find('c')"
   ]
  },
  {
   "cell_type": "code",
   "execution_count": 6,
   "id": "1edbdc51",
   "metadata": {},
   "outputs": [
    {
     "ename": "ValueError",
     "evalue": "substring not found",
     "output_type": "error",
     "traceback": [
      "\u001b[1;31m---------------------------------------------------------------------------\u001b[0m",
      "\u001b[1;31mValueError\u001b[0m                                Traceback (most recent call last)",
      "Input \u001b[1;32mIn [6]\u001b[0m, in \u001b[0;36m<cell line: 1>\u001b[1;34m()\u001b[0m\n\u001b[1;32m----> 1\u001b[0m \u001b[43ma\u001b[49m\u001b[38;5;241;43m.\u001b[39;49m\u001b[43mindex\u001b[49m\u001b[43m(\u001b[49m\u001b[38;5;124;43m'\u001b[39;49m\u001b[38;5;124;43mc\u001b[39;49m\u001b[38;5;124;43m'\u001b[39;49m\u001b[43m)\u001b[49m\n",
      "\u001b[1;31mValueError\u001b[0m: substring not found"
     ]
    }
   ],
   "source": [
    "a.index('c')"
   ]
  },
  {
   "cell_type": "markdown",
   "id": "bdcf676b",
   "metadata": {},
   "source": [
    "### 대소문자\n",
    "> * upper\n",
    ">   * 문자열.upper()\n",
    ">   * 모두 대문자로 변경\n",
    "--------------------------\n",
    "> * lower\n",
    ">  * 문자열.lower()\n",
    ">  * 모두 소문자로 변경 \n",
    "--------------------------\n",
    "> * swapcase\n",
    ">  * 문자열.swapcase()\n",
    ">  * 대 ⇔ 소문자 서로 변경\n",
    "--------------------------\n",
    "> * capitalize\n",
    ">  * 문자열.capitalize()\n",
    ">  * 가장 첫 번째 글자를 대문자로 변경\n",
    "--------------------------\n",
    "> * title\n",
    ">  * 문자열.title()\n",
    ">  * 문자열 안 각 단어의 첫 글자를 대문자로 변경\n",
    "----------------------\n",
    "> * isalpha\n",
    ">  * 문자열.isalpha()\n",
    ">  * 알파벳 문자 여부\n",
    "--------------------------\n",
    "> * isupper\n",
    ">  * 문자열.isupper()\n",
    ">  * 대문자 여부 \n",
    "--------------------------\n",
    "> * islower\n",
    ">  * 문자열.islower()\n",
    ">  * 소문자 여부\n",
    "--------------------------\n",
    "> * istitle\n",
    ">  * 문자열.istitle()\n",
    ">  * 타이틀 형식 여부\n",
    ">  * 띄어쓰기 기준으로 각 단어 첫 글자가 대문자면 True"
   ]
  },
  {
   "cell_type": "code",
   "execution_count": 8,
   "id": "fe7aeea9",
   "metadata": {},
   "outputs": [],
   "source": [
    "a = \"I'm Happy.\" "
   ]
  },
  {
   "cell_type": "code",
   "execution_count": 9,
   "id": "3db9a649",
   "metadata": {},
   "outputs": [
    {
     "data": {
      "text/plain": [
       "\"I'M HAPPY.\""
      ]
     },
     "execution_count": 9,
     "metadata": {},
     "output_type": "execute_result"
    }
   ],
   "source": [
    "a.upper()"
   ]
  },
  {
   "cell_type": "code",
   "execution_count": 10,
   "id": "70e084b7",
   "metadata": {},
   "outputs": [
    {
     "data": {
      "text/plain": [
       "\"i'm happy.\""
      ]
     },
     "execution_count": 10,
     "metadata": {},
     "output_type": "execute_result"
    }
   ],
   "source": [
    "a.lower()"
   ]
  },
  {
   "cell_type": "code",
   "execution_count": 11,
   "id": "a68f61c0",
   "metadata": {},
   "outputs": [
    {
     "data": {
      "text/plain": [
       "\"i'M hAPPY.\""
      ]
     },
     "execution_count": 11,
     "metadata": {},
     "output_type": "execute_result"
    }
   ],
   "source": [
    "a = \"I'm Happy.\" \n",
    "a.swapcase()"
   ]
  },
  {
   "cell_type": "code",
   "execution_count": 12,
   "id": "7188e871",
   "metadata": {},
   "outputs": [
    {
     "data": {
      "text/plain": [
       "\"I'm happy.\""
      ]
     },
     "execution_count": 12,
     "metadata": {},
     "output_type": "execute_result"
    }
   ],
   "source": [
    "a = \"i'm Happy.\"\n",
    "a.capitalize()"
   ]
  },
  {
   "cell_type": "code",
   "execution_count": 25,
   "id": "e94cb143",
   "metadata": {},
   "outputs": [
    {
     "data": {
      "text/plain": [
       "'This Is Fun'"
      ]
     },
     "execution_count": 25,
     "metadata": {},
     "output_type": "execute_result"
    }
   ],
   "source": [
    "a = \"this is fun\"\n",
    "a.title()"
   ]
  },
  {
   "cell_type": "code",
   "execution_count": 13,
   "id": "7436fb7f",
   "metadata": {},
   "outputs": [
    {
     "data": {
      "text/plain": [
       "True"
      ]
     },
     "execution_count": 13,
     "metadata": {},
     "output_type": "execute_result"
    }
   ],
   "source": [
    "'abc'.isalpha()"
   ]
  },
  {
   "cell_type": "code",
   "execution_count": 14,
   "id": "59de9b35",
   "metadata": {},
   "outputs": [
    {
     "data": {
      "text/plain": [
       "True"
      ]
     },
     "execution_count": 14,
     "metadata": {},
     "output_type": "execute_result"
    }
   ],
   "source": [
    "'가나다'.isalpha()"
   ]
  },
  {
   "cell_type": "code",
   "execution_count": 17,
   "id": "e9bb1d18",
   "metadata": {},
   "outputs": [
    {
     "data": {
      "text/plain": [
       "False"
      ]
     },
     "execution_count": 17,
     "metadata": {},
     "output_type": "execute_result"
    }
   ],
   "source": [
    "'@#$%^&'.isalpha()"
   ]
  },
  {
   "cell_type": "code",
   "execution_count": 18,
   "id": "dc32bd25",
   "metadata": {},
   "outputs": [
    {
     "data": {
      "text/plain": [
       "True"
      ]
     },
     "execution_count": 18,
     "metadata": {},
     "output_type": "execute_result"
    }
   ],
   "source": [
    "'PYTHON'.isupper()"
   ]
  },
  {
   "cell_type": "code",
   "execution_count": 19,
   "id": "96aa33a0",
   "metadata": {},
   "outputs": [
    {
     "data": {
      "text/plain": [
       "False"
      ]
     },
     "execution_count": 19,
     "metadata": {},
     "output_type": "execute_result"
    }
   ],
   "source": [
    "'PYTHON'.islower()"
   ]
  },
  {
   "cell_type": "code",
   "execution_count": 21,
   "id": "11547096",
   "metadata": {},
   "outputs": [
    {
     "data": {
      "text/plain": [
       "False"
      ]
     },
     "execution_count": 21,
     "metadata": {},
     "output_type": "execute_result"
    }
   ],
   "source": [
    "a = 'This is fun'\n",
    "a.istitle()"
   ]
  },
  {
   "cell_type": "code",
   "execution_count": 22,
   "id": "c8dd7eeb",
   "metadata": {},
   "outputs": [
    {
     "data": {
      "text/plain": [
       "True"
      ]
     },
     "execution_count": 22,
     "metadata": {},
     "output_type": "execute_result"
    }
   ],
   "source": [
    "a = 'This Is Fun'\n",
    "a.istitle()"
   ]
  },
  {
   "cell_type": "code",
   "execution_count": 23,
   "id": "319c4008",
   "metadata": {},
   "outputs": [
    {
     "data": {
      "text/plain": [
       "True"
      ]
     },
     "execution_count": 23,
     "metadata": {},
     "output_type": "execute_result"
    }
   ],
   "source": [
    "#숫자 및 특수문자는 무시\n",
    "a = '123This Is @Fun'\n",
    "a.istitle()"
   ]
  },
  {
   "cell_type": "code",
   "execution_count": 26,
   "id": "7fe1cb7c",
   "metadata": {},
   "outputs": [
    {
     "data": {
      "text/plain": [
       "False"
      ]
     },
     "execution_count": 26,
     "metadata": {},
     "output_type": "execute_result"
    }
   ],
   "source": [
    "#특수문자 뒤 단어가 소문로 시작.\n",
    "a = '123This Is @fun'\n",
    "a.istitle()"
   ]
  },
  {
   "cell_type": "code",
   "execution_count": null,
   "id": "588ff819",
   "metadata": {},
   "outputs": [],
   "source": [
    "#단어의 2번째 이하도 대문자"
   ]
  },
  {
   "cell_type": "code",
   "execution_count": 27,
   "id": "ba4368c0",
   "metadata": {},
   "outputs": [
    {
     "data": {
      "text/plain": [
       "False"
      ]
     },
     "execution_count": 27,
     "metadata": {},
     "output_type": "execute_result"
    }
   ],
   "source": [
    "a = '123THIS Is @Fun'\n",
    "a.istitle()"
   ]
  },
  {
   "cell_type": "markdown",
   "id": "0a072b91",
   "metadata": {},
   "source": [
    "### 문자열 변경\n",
    "문자열은 불변형인데, 문자열이 변경되는 이유는 기존의 문자열을 변경하는 게 아니라, 변경된 문자열을 새롭게 만들어 반환하기 때문\n",
    "> * replace\n",
    ">  * 문자열.replace(원본문자old, 바꿀문자new [,count])\n",
    ">  * 바꿀 대상 글자를 새로운 글자로 바꿈\n",
    ">  * count 지정하면 해당 개수만큼만 시행\n",
    ">  * 여러 문자 바꾸기 :  문자열.replace(old, new).replace(old, new)\n",
    "------------------------------------\n",
    "> * strip\n",
    ">  * strip([없앨 문자])\n",
    ">  * 특정 문자를 제거\n",
    ">  * 양쪽 제거strip, 왼쪽 제거lstrip, 오른쪽 제거rstrip\n",
    ">  * 특정문자열 지정하지 않으면 공백 제거\n",
    "------------------------------------\n",
    "> * split\n",
    ">  * 문자열.split(구분자 sep=None, 문자열을 나누는 횟수 maxsplit=-1)\n",
    ">  * 문자열을 특정한 단위로 나눠 *리스트*로 반환\n",
    ">  * sep=None 이거나 지정되지 않으면 연속된 공백문자를 단일한 공백문자로 간주하고, 선행/후행 공백은 빈 문자열에 포함시키지 않음\n",
    ">  * maxsplit=-1 이면 제한 없음\n",
    "------------------------------------\n",
    "> * join\n",
    ">  * 'separator'.join([iterable])\n",
    ">  * 반복가능한iterabale 컨테이너 요소들을 구분자separator로 합쳐 *문자열* 반환\n",
    ">  * *iterable 에 문자열이 아닌 값이 있으면 오류 TypeError 발생*\n"
   ]
  },
  {
   "cell_type": "markdown",
   "id": "a7188580",
   "metadata": {},
   "source": [
    "#### replace"
   ]
  },
  {
   "cell_type": "code",
   "execution_count": 29,
   "id": "5d9d2067",
   "metadata": {},
   "outputs": [
    {
     "data": {
      "text/plain": [
       "'dddbbbccc'"
      ]
     },
     "execution_count": 29,
     "metadata": {},
     "output_type": "execute_result"
    }
   ],
   "source": [
    "A = 'aaabbbccc'\n",
    "A.replace('a','d')\n",
    "# 모든 a 를 d 로 바꿈"
   ]
  },
  {
   "cell_type": "code",
   "execution_count": 30,
   "id": "067b6c59",
   "metadata": {},
   "outputs": [
    {
     "data": {
      "text/plain": [
       "'ddabbbccc'"
      ]
     },
     "execution_count": 30,
     "metadata": {},
     "output_type": "execute_result"
    }
   ],
   "source": [
    "A = 'aaabbbccc'\n",
    "A.replace('a','d',2)\n",
    "# a 2개를 d 로 바꿈"
   ]
  },
  {
   "cell_type": "code",
   "execution_count": 56,
   "id": "23b14e51",
   "metadata": {},
   "outputs": [
    {
     "data": {
      "text/plain": [
       "'This is difficult'"
      ]
     },
     "execution_count": 56,
     "metadata": {},
     "output_type": "execute_result"
    }
   ],
   "source": [
    "'This is fun'.replace('fun','difficult')\n",
    "# fun 을 difficult로 바꿈"
   ]
  },
  {
   "cell_type": "code",
   "execution_count": 72,
   "id": "3b2db060",
   "metadata": {},
   "outputs": [
    {
     "data": {
      "text/plain": [
       "'Thisisfun'"
      ]
     },
     "execution_count": 72,
     "metadata": {},
     "output_type": "execute_result"
    }
   ],
   "source": [
    "'This is fun'.replace(' ','')\n",
    "#공백지우기 : ' '를 ''로 바꿈"
   ]
  },
  {
   "cell_type": "code",
   "execution_count": 74,
   "id": "1a064b4b",
   "metadata": {},
   "outputs": [
    {
     "data": {
      "text/plain": [
       "'17:05:23'"
      ]
     },
     "execution_count": 74,
     "metadata": {},
     "output_type": "execute_result"
    }
   ],
   "source": [
    "'17/05/23'.replace('/',':')\n",
    "#시간나타내기"
   ]
  },
  {
   "cell_type": "markdown",
   "id": "8ef5b446",
   "metadata": {},
   "source": [
    "#### strip"
   ]
  },
  {
   "cell_type": "code",
   "execution_count": 50,
   "id": "1e686d6e",
   "metadata": {},
   "outputs": [],
   "source": [
    "B = '   abcd   '"
   ]
  },
  {
   "cell_type": "code",
   "execution_count": 51,
   "id": "9ae97e23",
   "metadata": {},
   "outputs": [
    {
     "data": {
      "text/plain": [
       "'abcd'"
      ]
     },
     "execution_count": 51,
     "metadata": {},
     "output_type": "execute_result"
    }
   ],
   "source": [
    "B.strip()"
   ]
  },
  {
   "cell_type": "code",
   "execution_count": 52,
   "id": "ccc9d879",
   "metadata": {},
   "outputs": [
    {
     "data": {
      "text/plain": [
       "'abcd   '"
      ]
     },
     "execution_count": 52,
     "metadata": {},
     "output_type": "execute_result"
    }
   ],
   "source": [
    "B.lstrip()"
   ]
  },
  {
   "cell_type": "code",
   "execution_count": 53,
   "id": "2c91c256",
   "metadata": {},
   "outputs": [
    {
     "data": {
      "text/plain": [
       "'   abcd'"
      ]
     },
     "execution_count": 53,
     "metadata": {},
     "output_type": "execute_result"
    }
   ],
   "source": [
    "B.rstrip()"
   ]
  },
  {
   "cell_type": "code",
   "execution_count": 55,
   "id": "9010e3c1",
   "metadata": {},
   "outputs": [
    {
     "data": {
      "text/plain": [
       "'abcd'"
      ]
     },
     "execution_count": 55,
     "metadata": {},
     "output_type": "execute_result"
    }
   ],
   "source": [
    "'??abcd??'.strip('?')"
   ]
  },
  {
   "cell_type": "markdown",
   "id": "0df9599d",
   "metadata": {},
   "source": [
    "#### split"
   ]
  },
  {
   "cell_type": "code",
   "execution_count": 65,
   "id": "5691f5ce",
   "metadata": {},
   "outputs": [
    {
     "data": {
      "text/plain": [
       "['This', 'is', 'fun']"
      ]
     },
     "execution_count": 65,
     "metadata": {},
     "output_type": "execute_result"
    }
   ],
   "source": [
    "a = 'This is fun'\n",
    "a.split()\n",
    "# 공백을 기준으로 나눔"
   ]
  },
  {
   "cell_type": "code",
   "execution_count": 62,
   "id": "21ceec72",
   "metadata": {},
   "outputs": [
    {
     "data": {
      "text/plain": [
       "['This', 'is', 'fun']"
      ]
     },
     "execution_count": 62,
     "metadata": {},
     "output_type": "execute_result"
    }
   ],
   "source": [
    "b = 'This?is?fun'\n",
    "b.split('?')\n",
    "#?를 기준으로 나눔"
   ]
  },
  {
   "cell_type": "code",
   "execution_count": 63,
   "id": "524c5ede",
   "metadata": {},
   "outputs": [
    {
     "data": {
      "text/plain": [
       "['This', 'is', 'so@fun']"
      ]
     },
     "execution_count": 63,
     "metadata": {},
     "output_type": "execute_result"
    }
   ],
   "source": [
    "c = 'This@is@so@fun'\n",
    "c.split('@',2)\n",
    "#@를 기준으로 2번 나눔"
   ]
  },
  {
   "cell_type": "markdown",
   "id": "4179a5e9",
   "metadata": {},
   "source": [
    "#### join"
   ]
  },
  {
   "cell_type": "code",
   "execution_count": 66,
   "id": "54f195d8",
   "metadata": {},
   "outputs": [
    {
     "data": {
      "text/plain": [
       "'p!y!t!h!o!n'"
      ]
     },
     "execution_count": 66,
     "metadata": {},
     "output_type": "execute_result"
    }
   ],
   "source": [
    "'!'.join('python')\n",
    "#문자열"
   ]
  },
  {
   "cell_type": "code",
   "execution_count": 67,
   "id": "51cc272e",
   "metadata": {},
   "outputs": [
    {
     "data": {
      "text/plain": [
       "'hi?python?world'"
      ]
     },
     "execution_count": 67,
     "metadata": {},
     "output_type": "execute_result"
    }
   ],
   "source": [
    "'?'.join(['hi','python','world'])\n",
    "#리스트"
   ]
  },
  {
   "cell_type": "code",
   "execution_count": 69,
   "id": "29e1598b",
   "metadata": {},
   "outputs": [
    {
     "data": {
      "text/plain": [
       "'hi^python^world'"
      ]
     },
     "execution_count": 69,
     "metadata": {},
     "output_type": "execute_result"
    }
   ],
   "source": [
    "'^'.join(('hi','python','world'))\n",
    "#튜플"
   ]
  },
  {
   "cell_type": "code",
   "execution_count": 71,
   "id": "025f7b59",
   "metadata": {},
   "outputs": [
    {
     "ename": "TypeError",
     "evalue": "sequence item 0: expected str instance, int found",
     "output_type": "error",
     "traceback": [
      "\u001b[1;31m---------------------------------------------------------------------------\u001b[0m",
      "\u001b[1;31mTypeError\u001b[0m                                 Traceback (most recent call last)",
      "Input \u001b[1;32mIn [71]\u001b[0m, in \u001b[0;36m<cell line: 1>\u001b[1;34m()\u001b[0m\n\u001b[1;32m----> 1\u001b[0m \u001b[38;5;124;43m'\u001b[39;49m\u001b[38;5;124;43m!\u001b[39;49m\u001b[38;5;124;43m'\u001b[39;49m\u001b[38;5;241;43m.\u001b[39;49m\u001b[43mjoin\u001b[49m\u001b[43m(\u001b[49m\u001b[43m[\u001b[49m\u001b[38;5;241;43m1\u001b[39;49m\u001b[43m,\u001b[49m\u001b[38;5;241;43m2\u001b[39;49m\u001b[43m,\u001b[49m\u001b[38;5;241;43m3\u001b[39;49m\u001b[43m]\u001b[49m\u001b[43m)\u001b[49m\n",
      "\u001b[1;31mTypeError\u001b[0m: sequence item 0: expected str instance, int found"
     ]
    }
   ],
   "source": [
    "'!'.join([1,2,3])\n",
    "#문자열이 아니면 타입에러"
   ]
  }
 ],
 "metadata": {
  "kernelspec": {
   "display_name": "Python 3 (ipykernel)",
   "language": "python",
   "name": "python3"
  },
  "language_info": {
   "codemirror_mode": {
    "name": "ipython",
    "version": 3
   },
   "file_extension": ".py",
   "mimetype": "text/x-python",
   "name": "python",
   "nbconvert_exporter": "python",
   "pygments_lexer": "ipython3",
   "version": "3.9.13"
  },
  "toc": {
   "base_numbering": 1,
   "nav_menu": {},
   "number_sections": true,
   "sideBar": true,
   "skip_h1_title": false,
   "title_cell": "Table of Contents",
   "title_sidebar": "Contents",
   "toc_cell": false,
   "toc_position": {},
   "toc_section_display": true,
   "toc_window_display": false
  }
 },
 "nbformat": 4,
 "nbformat_minor": 5
}
