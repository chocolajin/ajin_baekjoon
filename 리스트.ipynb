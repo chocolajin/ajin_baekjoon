{
 "cells": [
  {
   "cell_type": "markdown",
   "id": "cb2d1b22",
   "metadata": {},
   "source": [
    "# 리스트\n",
    "\n",
    "리스트(List)란, 여러 개의 값을 순서가 있는 구조로 저장하는 자료\n",
    "\n",
    "mutable, iterable, sequence\n",
    "\n",
    "* 기본 모양, 빈 리스트 : []\n",
    " * listname = list()\n",
    " * listname = []\n",
    "* 리스트 안에는 어떤 자료형도 들어 갈 수 있다.\n",
    "* 각 요솟값은 쉼표 , 로 구분\n",
    "* 생성된 이후 내용 변경 가능"
   ]
  },
  {
   "cell_type": "markdown",
   "id": "51acca9c",
   "metadata": {},
   "source": [
    "## 인덱싱 \n",
    "> * listname[인덱싱번호]\n",
    "> * 인덱싱 번호는 0부터 시작\n",
    "> * 가장 마지막 요소의 인덱스 번호는 -1\n",
    "> * 중첩 리스트의 요소도 인덱싱 가능"
   ]
  },
  {
   "cell_type": "code",
   "execution_count": 1,
   "id": "2fdcef5f",
   "metadata": {},
   "outputs": [],
   "source": [
    "a = [1,2,3,[4,5,[6,7,8]],9]"
   ]
  },
  {
   "cell_type": "code",
   "execution_count": 2,
   "id": "cdf42424",
   "metadata": {},
   "outputs": [
    {
     "data": {
      "text/plain": [
       "1"
      ]
     },
     "execution_count": 2,
     "metadata": {},
     "output_type": "execute_result"
    }
   ],
   "source": [
    "a[0]"
   ]
  },
  {
   "cell_type": "code",
   "execution_count": 3,
   "id": "12b55d42",
   "metadata": {},
   "outputs": [
    {
     "data": {
      "text/plain": [
       "2"
      ]
     },
     "execution_count": 3,
     "metadata": {},
     "output_type": "execute_result"
    }
   ],
   "source": [
    "a[1]"
   ]
  },
  {
   "cell_type": "code",
   "execution_count": 4,
   "id": "4c5824a3",
   "metadata": {},
   "outputs": [
    {
     "data": {
      "text/plain": [
       "[4, 5, [6, 7, 8]]"
      ]
     },
     "execution_count": 4,
     "metadata": {},
     "output_type": "execute_result"
    }
   ],
   "source": [
    "a[3]"
   ]
  },
  {
   "cell_type": "code",
   "execution_count": 5,
   "id": "95642903",
   "metadata": {},
   "outputs": [
    {
     "data": {
      "text/plain": [
       "[6, 7, 8]"
      ]
     },
     "execution_count": 5,
     "metadata": {},
     "output_type": "execute_result"
    }
   ],
   "source": [
    "a[3][2]"
   ]
  },
  {
   "cell_type": "code",
   "execution_count": 6,
   "id": "0c6bb7f8",
   "metadata": {},
   "outputs": [
    {
     "data": {
      "text/plain": [
       "6"
      ]
     },
     "execution_count": 6,
     "metadata": {},
     "output_type": "execute_result"
    }
   ],
   "source": [
    "a[3][2][0]"
   ]
  },
  {
   "cell_type": "code",
   "execution_count": 7,
   "id": "13391b83",
   "metadata": {},
   "outputs": [
    {
     "data": {
      "text/plain": [
       "9"
      ]
     },
     "execution_count": 7,
     "metadata": {},
     "output_type": "execute_result"
    }
   ],
   "source": [
    "a[-1]"
   ]
  },
  {
   "cell_type": "code",
   "execution_count": 8,
   "id": "68c0616e",
   "metadata": {},
   "outputs": [
    {
     "data": {
      "text/plain": [
       "[4, 5, [6, 7, 8]]"
      ]
     },
     "execution_count": 8,
     "metadata": {},
     "output_type": "execute_result"
    }
   ],
   "source": [
    "a[-2]"
   ]
  },
  {
   "cell_type": "markdown",
   "id": "3d0a6acd",
   "metadata": {},
   "source": [
    "## 슬라이싱\n",
    "> * listname[시작인덱스번호:끝번호]\n",
    "> * 끝 번호는 포함하지 않는다.\n",
    "> * 시작번호부터 끝까지 listname[시작인덱스번호:]\n",
    "> * 처음부터 끝 번호까지 listname[:끝 인덱스 번호]\n",
    "> * 리스트 전체 복사 listname.[:]"
   ]
  },
  {
   "cell_type": "code",
   "execution_count": 37,
   "id": "a88d8fb0",
   "metadata": {},
   "outputs": [],
   "source": [
    "a = [1,2,3,[4,5,['python']],9]"
   ]
  },
  {
   "cell_type": "code",
   "execution_count": 14,
   "id": "ad963461",
   "metadata": {},
   "outputs": [
    {
     "data": {
      "text/plain": [
       "[1, 2]"
      ]
     },
     "execution_count": 14,
     "metadata": {},
     "output_type": "execute_result"
    }
   ],
   "source": [
    "a[0:2]"
   ]
  },
  {
   "cell_type": "code",
   "execution_count": 15,
   "id": "c1ea5a92",
   "metadata": {},
   "outputs": [
    {
     "data": {
      "text/plain": [
       "[[4, 5, ['python']], 9]"
      ]
     },
     "execution_count": 15,
     "metadata": {},
     "output_type": "execute_result"
    }
   ],
   "source": [
    "a[3:5]"
   ]
  },
  {
   "cell_type": "code",
   "execution_count": 16,
   "id": "084e468a",
   "metadata": {},
   "outputs": [
    {
     "data": {
      "text/plain": [
       "[1, 2]"
      ]
     },
     "execution_count": 16,
     "metadata": {},
     "output_type": "execute_result"
    }
   ],
   "source": [
    "a[:2]"
   ]
  },
  {
   "cell_type": "code",
   "execution_count": 17,
   "id": "15870509",
   "metadata": {},
   "outputs": [
    {
     "data": {
      "text/plain": [
       "[3, [4, 5, ['python']], 9]"
      ]
     },
     "execution_count": 17,
     "metadata": {},
     "output_type": "execute_result"
    }
   ],
   "source": [
    "a[2:]"
   ]
  },
  {
   "cell_type": "code",
   "execution_count": 41,
   "id": "0dca83f9",
   "metadata": {},
   "outputs": [
    {
     "data": {
      "text/plain": [
       "[4, 5]"
      ]
     },
     "execution_count": 41,
     "metadata": {},
     "output_type": "execute_result"
    }
   ],
   "source": [
    "a[3][:2]"
   ]
  },
  {
   "cell_type": "code",
   "execution_count": 42,
   "id": "f25d2d3a",
   "metadata": {},
   "outputs": [
    {
     "data": {
      "text/plain": [
       "[1, 2, 3, [4, 5, ['python']], 9]"
      ]
     },
     "execution_count": 42,
     "metadata": {},
     "output_type": "execute_result"
    }
   ],
   "source": [
    "a[:]"
   ]
  },
  {
   "cell_type": "markdown",
   "id": "e92fd37f",
   "metadata": {},
   "source": [
    "## 리스트 연산\n",
    "### 리스트더하기"
   ]
  },
  {
   "cell_type": "code",
   "execution_count": 43,
   "id": "fefc3d5e",
   "metadata": {},
   "outputs": [
    {
     "data": {
      "text/plain": [
       "[1, 2, 3, 4]"
      ]
     },
     "execution_count": 43,
     "metadata": {},
     "output_type": "execute_result"
    }
   ],
   "source": [
    "a = [1,2]\n",
    "b = [3,4]\n",
    "a+b"
   ]
  },
  {
   "cell_type": "code",
   "execution_count": 44,
   "id": "8bb3b627",
   "metadata": {},
   "outputs": [
    {
     "data": {
      "text/plain": [
       "['hello', 'world']"
      ]
     },
     "execution_count": 44,
     "metadata": {},
     "output_type": "execute_result"
    }
   ],
   "source": [
    "a = ['hello']\n",
    "b = ['world']\n",
    "a+b"
   ]
  },
  {
   "cell_type": "markdown",
   "id": "fc2b670a",
   "metadata": {},
   "source": [
    "### 리스트 반복하기"
   ]
  },
  {
   "cell_type": "code",
   "execution_count": 45,
   "id": "8251c934",
   "metadata": {},
   "outputs": [
    {
     "data": {
      "text/plain": [
       "[1, 2, 3, 1, 2, 3, 1, 2, 3]"
      ]
     },
     "execution_count": 45,
     "metadata": {},
     "output_type": "execute_result"
    }
   ],
   "source": [
    "a= [1,2,3]\n",
    "a*3"
   ]
  },
  {
   "cell_type": "code",
   "execution_count": 46,
   "id": "f70e7baa",
   "metadata": {},
   "outputs": [
    {
     "data": {
      "text/plain": [
       "['ho', 'ho', 'ho', 'ho', 'ho']"
      ]
     },
     "execution_count": 46,
     "metadata": {},
     "output_type": "execute_result"
    }
   ],
   "source": [
    "a = ['ho']\n",
    "a*5"
   ]
  },
  {
   "cell_type": "markdown",
   "id": "49273238",
   "metadata": {},
   "source": [
    "## 리스트 수정\n",
    "\n",
    "### 리스트 값 직접 수정"
   ]
  },
  {
   "cell_type": "code",
   "execution_count": 3,
   "id": "647e1415",
   "metadata": {},
   "outputs": [
    {
     "data": {
      "text/plain": [
       "[1, 4, 3]"
      ]
     },
     "execution_count": 3,
     "metadata": {},
     "output_type": "execute_result"
    }
   ],
   "source": [
    "a = [1,2,3]\n",
    "a[1]= 4\n",
    "a\n",
    "# 리스트의 인덱스를 가져와 집접 바꿔줌"
   ]
  },
  {
   "cell_type": "markdown",
   "id": "2187bb4c",
   "metadata": {},
   "source": [
    "### del \n",
    "\n",
    "\n",
    " * del 객체[x]는 x번째 요솟값을 삭제한다."
   ]
  },
  {
   "cell_type": "code",
   "execution_count": 4,
   "id": "2c4fbd16",
   "metadata": {},
   "outputs": [
    {
     "data": {
      "text/plain": [
       "[1, 3]"
      ]
     },
     "execution_count": 4,
     "metadata": {},
     "output_type": "execute_result"
    }
   ],
   "source": [
    "a = [1,2,3]\n",
    "del a[1]\n",
    "a\n"
   ]
  },
  {
   "cell_type": "code",
   "execution_count": 5,
   "id": "34e93522",
   "metadata": {},
   "outputs": [
    {
     "data": {
      "text/plain": [
       "[1]"
      ]
     },
     "execution_count": 5,
     "metadata": {},
     "output_type": "execute_result"
    }
   ],
   "source": [
    "a = [1,2,3]\n",
    "del a[1:]\n",
    "a\n",
    "#슬라이싱 기법을 사용하여 여러 요소를 한꺼번에 없앨 수 있다."
   ]
  },
  {
   "cell_type": "code",
   "execution_count": 50,
   "id": "aaa85732",
   "metadata": {},
   "outputs": [
    {
     "ename": "IndexError",
     "evalue": "list assignment index out of range",
     "output_type": "error",
     "traceback": [
      "\u001b[1;31m---------------------------------------------------------------------------\u001b[0m",
      "\u001b[1;31mIndexError\u001b[0m                                Traceback (most recent call last)",
      "Input \u001b[1;32mIn [50]\u001b[0m, in \u001b[0;36m<cell line: 2>\u001b[1;34m()\u001b[0m\n\u001b[0;32m      1\u001b[0m a \u001b[38;5;241m=\u001b[39m [\u001b[38;5;241m1\u001b[39m,\u001b[38;5;241m2\u001b[39m,\u001b[38;5;241m3\u001b[39m]\n\u001b[1;32m----> 2\u001b[0m \u001b[38;5;28;01mdel\u001b[39;00m a[\u001b[38;5;241m3\u001b[39m]\n\u001b[0;32m      3\u001b[0m a\n",
      "\u001b[1;31mIndexError\u001b[0m: list assignment index out of range"
     ]
    }
   ],
   "source": [
    "a = [1,2,3]\n",
    "del a[3]\n",
    "a\n",
    "# IndexError: list assignment index out of range"
   ]
  },
  {
   "cell_type": "markdown",
   "id": "6f4b925f",
   "metadata": {},
   "source": [
    "### remove\n",
    "* 객체.remove(없애려는 요소)\n",
    "* remove(x) 는 리스트에서 **첫번째로 나오는 x**를 삭제한다.\n",
    "* 반복해야 모든 x를 제거할 수 있다.\n",
    "* **_삭제하려는 값이 없으면 ValueError_** \n"
   ]
  },
  {
   "cell_type": "code",
   "execution_count": 7,
   "id": "4461440a",
   "metadata": {},
   "outputs": [
    {
     "data": {
      "text/plain": [
       "[1, 2, 3, 4, 4, 3, 2, 1]"
      ]
     },
     "execution_count": 7,
     "metadata": {},
     "output_type": "execute_result"
    }
   ],
   "source": [
    "a = [1,2,3,4,5,4,3,2,1]\n",
    "a.remove(5)\n",
    "a"
   ]
  },
  {
   "cell_type": "code",
   "execution_count": 51,
   "id": "cf3feda6",
   "metadata": {},
   "outputs": [
    {
     "ename": "ValueError",
     "evalue": "list.remove(x): x not in list",
     "output_type": "error",
     "traceback": [
      "\u001b[1;31m---------------------------------------------------------------------------\u001b[0m",
      "\u001b[1;31mValueError\u001b[0m                                Traceback (most recent call last)",
      "Input \u001b[1;32mIn [51]\u001b[0m, in \u001b[0;36m<cell line: 2>\u001b[1;34m()\u001b[0m\n\u001b[0;32m      1\u001b[0m a \u001b[38;5;241m=\u001b[39m [\u001b[38;5;241m1\u001b[39m,\u001b[38;5;241m2\u001b[39m,\u001b[38;5;241m3\u001b[39m,\u001b[38;5;241m4\u001b[39m,\u001b[38;5;241m5\u001b[39m,\u001b[38;5;241m4\u001b[39m,\u001b[38;5;241m3\u001b[39m,\u001b[38;5;241m2\u001b[39m,\u001b[38;5;241m1\u001b[39m]\n\u001b[1;32m----> 2\u001b[0m \u001b[43ma\u001b[49m\u001b[38;5;241;43m.\u001b[39;49m\u001b[43mremove\u001b[49m\u001b[43m(\u001b[49m\u001b[38;5;241;43m6\u001b[39;49m\u001b[43m)\u001b[49m\n\u001b[0;32m      3\u001b[0m a\n",
      "\u001b[1;31mValueError\u001b[0m: list.remove(x): x not in list"
     ]
    }
   ],
   "source": [
    "a = [1,2,3,4,5,4,3,2,1]\n",
    "a.remove(6)\n",
    "a\n",
    "# 삭제하려는 값이 없으면 ValueError"
   ]
  },
  {
   "cell_type": "markdown",
   "id": "b09eb9da",
   "metadata": {},
   "source": [
    "### pop \n",
    "* 객체.pop(꺼낼요소)\n",
    "* pop() : 리스트의 **맨마지막** 요소를 **돌려주고** 그 요소는 **삭제한다**.\n"
   ]
  },
  {
   "cell_type": "code",
   "execution_count": 11,
   "id": "4353f7f3",
   "metadata": {},
   "outputs": [
    {
     "name": "stdout",
     "output_type": "stream",
     "text": [
      "1\n",
      "[1, 2, 3, 4, 5, 4, 3, 2]\n"
     ]
    }
   ],
   "source": [
    "a = [1,2,3,4,5,4,3,2,1]\n",
    "print(a.pop())\n",
    "print(a)"
   ]
  },
  {
   "cell_type": "markdown",
   "id": "bc0949fc",
   "metadata": {},
   "source": [
    "* pop(x) : 리스트의 **x번째** 요소를 **돌려주고** 그 요소는 **삭제한다**."
   ]
  },
  {
   "cell_type": "code",
   "execution_count": 12,
   "id": "28fcd4ca",
   "metadata": {},
   "outputs": [
    {
     "name": "stdout",
     "output_type": "stream",
     "text": [
      "5\n",
      "[1, 2, 3, 4, 4, 3, 2, 1]\n"
     ]
    }
   ],
   "source": [
    "a = [1,2,3,4,5,4,3,2,1]\n",
    "print(a.pop(4))\n",
    "print(a)"
   ]
  },
  {
   "cell_type": "code",
   "execution_count": 52,
   "id": "90d8cd5a",
   "metadata": {},
   "outputs": [
    {
     "ename": "IndexError",
     "evalue": "pop from empty list",
     "output_type": "error",
     "traceback": [
      "\u001b[1;31m---------------------------------------------------------------------------\u001b[0m",
      "\u001b[1;31mIndexError\u001b[0m                                Traceback (most recent call last)",
      "Input \u001b[1;32mIn [52]\u001b[0m, in \u001b[0;36m<cell line: 2>\u001b[1;34m()\u001b[0m\n\u001b[0;32m      1\u001b[0m a \u001b[38;5;241m=\u001b[39m []\n\u001b[1;32m----> 2\u001b[0m \u001b[38;5;28mprint\u001b[39m(\u001b[43ma\u001b[49m\u001b[38;5;241;43m.\u001b[39;49m\u001b[43mpop\u001b[49m\u001b[43m(\u001b[49m\u001b[43m)\u001b[49m)\n\u001b[0;32m      3\u001b[0m \u001b[38;5;28mprint\u001b[39m(a)\n",
      "\u001b[1;31mIndexError\u001b[0m: pop from empty list"
     ]
    }
   ],
   "source": [
    "a = []\n",
    "print(a.pop())\n",
    "print(a)\n",
    "# 삭제 할 요소 없으면 인덱스 에러 IndexError: pop from empty list"
   ]
  },
  {
   "cell_type": "code",
   "execution_count": 53,
   "id": "f4cee79a",
   "metadata": {},
   "outputs": [
    {
     "ename": "IndexError",
     "evalue": "pop index out of range",
     "output_type": "error",
     "traceback": [
      "\u001b[1;31m---------------------------------------------------------------------------\u001b[0m",
      "\u001b[1;31mIndexError\u001b[0m                                Traceback (most recent call last)",
      "Input \u001b[1;32mIn [53]\u001b[0m, in \u001b[0;36m<cell line: 2>\u001b[1;34m()\u001b[0m\n\u001b[0;32m      1\u001b[0m a \u001b[38;5;241m=\u001b[39m [\u001b[38;5;241m1\u001b[39m,\u001b[38;5;241m2\u001b[39m,\u001b[38;5;241m3\u001b[39m,\u001b[38;5;241m4\u001b[39m,\u001b[38;5;241m5\u001b[39m,\u001b[38;5;241m4\u001b[39m,\u001b[38;5;241m3\u001b[39m,\u001b[38;5;241m2\u001b[39m,\u001b[38;5;241m1\u001b[39m]\n\u001b[1;32m----> 2\u001b[0m \u001b[38;5;28mprint\u001b[39m(\u001b[43ma\u001b[49m\u001b[38;5;241;43m.\u001b[39;49m\u001b[43mpop\u001b[49m\u001b[43m(\u001b[49m\u001b[38;5;241;43m10\u001b[39;49m\u001b[43m)\u001b[49m)\n\u001b[0;32m      3\u001b[0m \u001b[38;5;28mprint\u001b[39m(a)\n",
      "\u001b[1;31mIndexError\u001b[0m: pop index out of range"
     ]
    }
   ],
   "source": [
    "a = [1,2,3,4,5,4,3,2,1]\n",
    "print(a.pop(10))\n",
    "print(a)\n",
    "# IndexError: pop index out of range"
   ]
  },
  {
   "cell_type": "markdown",
   "id": "c3753f00",
   "metadata": {},
   "source": [
    "### append\n",
    "* 객체.append(추가할요소)\n",
    "* 리스트의 **맨 마지막**에 x를 추가한다.\n",
    "* **_리스트 안에는 어떤 자료형도 추가 할 수 있다._**\n"
   ]
  },
  {
   "cell_type": "code",
   "execution_count": 15,
   "id": "cadf8ef5",
   "metadata": {},
   "outputs": [
    {
     "data": {
      "text/plain": [
       "[1, 2, 3, 4, 5, 4, 3, 2, 1, 0]"
      ]
     },
     "execution_count": 15,
     "metadata": {},
     "output_type": "execute_result"
    }
   ],
   "source": [
    "a = [1,2,3,4,5,4,3,2,1]\n",
    "a.append(0)\n",
    "a"
   ]
  },
  {
   "cell_type": "code",
   "execution_count": 16,
   "id": "9b12d039",
   "metadata": {},
   "outputs": [
    {
     "data": {
      "text/plain": [
       "[1, 2, 3, 4, 5, 4, 3, 2, 1, [0, 1, 2]]"
      ]
     },
     "execution_count": 16,
     "metadata": {},
     "output_type": "execute_result"
    }
   ],
   "source": [
    "a = [1,2,3,4,5,4,3,2,1]\n",
    "a.append([0,1,2])\n",
    "a"
   ]
  },
  {
   "cell_type": "markdown",
   "id": "4b149b82",
   "metadata": {},
   "source": [
    "### insert \n",
    "* 객체.insert(추가할위치,추가할요소)"
   ]
  },
  {
   "cell_type": "code",
   "execution_count": 17,
   "id": "6c5f1d1a",
   "metadata": {},
   "outputs": [
    {
     "data": {
      "text/plain": [
       "[77, 1, 2, 3, 4, 5, 4, 3, 2, 1]"
      ]
     },
     "execution_count": 17,
     "metadata": {},
     "output_type": "execute_result"
    }
   ],
   "source": [
    "a = [1,2,3,4,5,4,3,2,1]\n",
    "a.insert(0,77)\n",
    "a"
   ]
  },
  {
   "cell_type": "code",
   "execution_count": 54,
   "id": "e0b70706",
   "metadata": {},
   "outputs": [
    {
     "data": {
      "text/plain": [
       "[[77], 1, 2, 3, 4, 5, 4, 3, 2, 1]"
      ]
     },
     "execution_count": 54,
     "metadata": {},
     "output_type": "execute_result"
    }
   ],
   "source": [
    "a = [1,2,3,4,5,4,3,2,1]\n",
    "a.insert(0,[77])\n",
    "a"
   ]
  },
  {
   "cell_type": "markdown",
   "id": "b5db5dfa",
   "metadata": {},
   "source": [
    "### extend \n",
    "* 객체.extend(x)\n",
    "* **_x에는 리스트만 올 수 있다._**\n",
    "* 원래리스트 += x리스트"
   ]
  },
  {
   "cell_type": "code",
   "execution_count": 18,
   "id": "77712c78",
   "metadata": {},
   "outputs": [
    {
     "data": {
      "text/plain": [
       "[1, 2, 3, 4, 5, 4, 3, 2, 1, 7, 8, 9]"
      ]
     },
     "execution_count": 18,
     "metadata": {},
     "output_type": "execute_result"
    }
   ],
   "source": [
    "a = [1,2,3,4,5,4,3,2,1]\n",
    "a.extend([7,8,9])\n",
    "a"
   ]
  },
  {
   "cell_type": "code",
   "execution_count": 56,
   "id": "204eed19",
   "metadata": {},
   "outputs": [
    {
     "ename": "TypeError",
     "evalue": "'int' object is not iterable",
     "output_type": "error",
     "traceback": [
      "\u001b[1;31m---------------------------------------------------------------------------\u001b[0m",
      "\u001b[1;31mTypeError\u001b[0m                                 Traceback (most recent call last)",
      "Input \u001b[1;32mIn [56]\u001b[0m, in \u001b[0;36m<cell line: 2>\u001b[1;34m()\u001b[0m\n\u001b[0;32m      1\u001b[0m a \u001b[38;5;241m=\u001b[39m [\u001b[38;5;241m1\u001b[39m,\u001b[38;5;241m2\u001b[39m,\u001b[38;5;241m3\u001b[39m,\u001b[38;5;241m4\u001b[39m,\u001b[38;5;241m5\u001b[39m,\u001b[38;5;241m4\u001b[39m,\u001b[38;5;241m3\u001b[39m,\u001b[38;5;241m2\u001b[39m,\u001b[38;5;241m1\u001b[39m]\n\u001b[1;32m----> 2\u001b[0m \u001b[43ma\u001b[49m\u001b[38;5;241;43m.\u001b[39;49m\u001b[43mextend\u001b[49m\u001b[43m(\u001b[49m\u001b[38;5;241;43m7\u001b[39;49m\u001b[43m)\u001b[49m\n\u001b[0;32m      3\u001b[0m a\n",
      "\u001b[1;31mTypeError\u001b[0m: 'int' object is not iterable"
     ]
    }
   ],
   "source": [
    "a = [1,2,3,4,5,4,3,2,1]\n",
    "a.extend(7)\n",
    "a\n",
    "# 리스트가 아니면 TypeError: 'int' object is not iterable"
   ]
  },
  {
   "cell_type": "markdown",
   "id": "bd7dcdc9",
   "metadata": {},
   "source": [
    "## 리스트 관련 함수\n",
    "### sorted \n",
    "* sorted(객체)\n",
    "* **입력데이터에 상관없이 실행결과는 리스트로 나온다**\n",
    "* 오름차순 : sorted(객체)\n",
    "* 내림차순 : sorted(객체,reverse=True)\n",
    "* ()안에 iterable 자료형 들어감\n",
    "* _list.sort() 메서드가 리스트에게만 정의된다는 것과 달리, sorted() 함수는 모든 이터러블을 받아들입니다._"
   ]
  },
  {
   "cell_type": "code",
   "execution_count": 27,
   "id": "46d9cf1a",
   "metadata": {},
   "outputs": [
    {
     "data": {
      "text/plain": [
       "[3, 1, 2]"
      ]
     },
     "execution_count": 27,
     "metadata": {},
     "output_type": "execute_result"
    }
   ],
   "source": [
    "a = [3,1,2]\n",
    "sorted(a)\n",
    "a\n",
    "# 기존 데이터가 변하는게 아니라 새로운 리스트가 생기는 것이다."
   ]
  },
  {
   "cell_type": "code",
   "execution_count": 28,
   "id": "6b59b16e",
   "metadata": {},
   "outputs": [
    {
     "data": {
      "text/plain": [
       "[1, 2, 3]"
      ]
     },
     "execution_count": 28,
     "metadata": {},
     "output_type": "execute_result"
    }
   ],
   "source": [
    "a = [3,1,2]\n",
    "aa = sorted(a)\n",
    "aa"
   ]
  },
  {
   "cell_type": "code",
   "execution_count": 32,
   "id": "58d36fa7",
   "metadata": {},
   "outputs": [
    {
     "data": {
      "text/plain": [
       "['d', 'c', 'b', 'a']"
      ]
     },
     "execution_count": 32,
     "metadata": {},
     "output_type": "execute_result"
    }
   ],
   "source": [
    "b = ['d', 'a', 'b', 'c']\n",
    "bb= sorted(b, reverse=True)\n",
    "bb\n",
    "# 내림차순 정렬"
   ]
  },
  {
   "cell_type": "markdown",
   "id": "68c5375d",
   "metadata": {},
   "source": [
    "#### parameter\n",
    "  * sorted(객체, key= 정렬기준)\n",
    "  * 정렬을 목적으로 하는 함수를 값으로 넣는다. \n",
    "  * lambda를 이용할 수 있다.\n",
    "  * key 값을 기준으로 정렬되고 기본값은 오름차순이다. \n",
    "  * 앞에 '-'을 붙히면 reverse되어 정렬된다. \n",
    "  * 비교할 아이템의 요소가 복수 개일 경우, 튜플로 그 순서를 내보내주면 된다.\n",
    "  * sort도 동일하게 가능"
   ]
  },
  {
   "cell_type": "code",
   "execution_count": 39,
   "id": "ff2c537b",
   "metadata": {},
   "outputs": [
    {
     "data": {
      "text/plain": [
       "['나비', '가방', '다람쥐', 'abc', 'apple', 'banana']"
      ]
     },
     "execution_count": 39,
     "metadata": {},
     "output_type": "execute_result"
    }
   ],
   "source": [
    "a = ['나비','apple','가방','banana','다람쥐','abc']\n",
    "b = sorted(a, key=len) #함수\n",
    "b\n",
    "# 요소의 길이를 기준으로 오름차순 정렬"
   ]
  },
  {
   "cell_type": "code",
   "execution_count": 40,
   "id": "bc70788d",
   "metadata": {},
   "outputs": [
    {
     "data": {
      "text/plain": [
       "['banana', 'abc', 'apple', '다람쥐', '가방', '나비']"
      ]
     },
     "execution_count": 40,
     "metadata": {},
     "output_type": "execute_result"
    }
   ],
   "source": [
    "a = ['나비','apple','가방','banana','다람쥐','abc']\n",
    "b = sorted(a, key=lambda x : x[1]) #람다\n",
    "b\n",
    "#요소의 1번 인덱스를 기준으로 오름차순 정렬"
   ]
  },
  {
   "cell_type": "code",
   "execution_count": 46,
   "id": "76a1e682",
   "metadata": {},
   "outputs": [
    {
     "data": {
      "text/plain": [
       "[('apple', 1),\n",
       " ('banana', 3),\n",
       " ('banana', 88),\n",
       " ('가방', 3),\n",
       " ('나비', 7),\n",
       " ('나비', 100)]"
      ]
     },
     "execution_count": 46,
     "metadata": {},
     "output_type": "execute_result"
    }
   ],
   "source": [
    "a = [('나비', 7), ('apple', 1), ('가방', 3), ('banana', 88), ('나비',100), ('banana',3)]\n",
    "# 비교할 아이템의 요소가 복수 개일 경우, 튜플로 그 순서를 내보내주면 된다. \n",
    "# 아이템 첫 번째 인자를 기준으로 오름차순으로 먼저 정렬하고,\n",
    "# 그리고 그 안에서 다음 두 번째 인자를 기준으로 내림차순으로 정렬하게 하려면, 다음과 같이 할 수 있다.\n",
    "b = sorted(a, key=lambda x : (x[0], x[1])) \n",
    "b"
   ]
  },
  {
   "cell_type": "code",
   "execution_count": 47,
   "id": "a6185356",
   "metadata": {},
   "outputs": [
    {
     "data": {
      "text/plain": [
       "[('apple', 1),\n",
       " ('banana', 88),\n",
       " ('banana', 3),\n",
       " ('가방', 3),\n",
       " ('나비', 100),\n",
       " ('나비', 7)]"
      ]
     },
     "execution_count": 47,
     "metadata": {},
     "output_type": "execute_result"
    }
   ],
   "source": [
    "a = [('나비', 7), ('apple', 1), ('가방', 3), ('banana', 88), ('나비',100), ('banana',3)]\n",
    "b = sorted(a, key=lambda x : (x[0], -x[1])) \n",
    "b\n",
    "# '-'부호를 이용해서 역순으로 가능"
   ]
  },
  {
   "cell_type": "markdown",
   "id": "5fc03325",
   "metadata": {},
   "source": [
    "### sort\n",
    "* 객체.sort()\n",
    "* 리스트의 요소를 순서대로 정렬\n",
    "* sorted처럼 _새로운 리스트가 생기는 것이 아니라 기존 데이터가 변경된다._\n",
    "* 데이터 자체가 변경되므로 리스트의 데이터가 항상 일정한 순서로 정리되어 있어야 할 때 사용한다.\n",
    "* 오름차순 : 리스트.sort()\n",
    "* 내림차순 : 리스트.sort(reverse=True)"
   ]
  },
  {
   "cell_type": "code",
   "execution_count": 20,
   "id": "0155e78e",
   "metadata": {},
   "outputs": [
    {
     "data": {
      "text/plain": [
       "[1, 2, 3]"
      ]
     },
     "execution_count": 20,
     "metadata": {},
     "output_type": "execute_result"
    }
   ],
   "source": [
    "a = [3,1,2]\n",
    "a.sort()\n",
    "a"
   ]
  },
  {
   "cell_type": "code",
   "execution_count": 21,
   "id": "08d2f331",
   "metadata": {},
   "outputs": [
    {
     "data": {
      "text/plain": [
       "['a', 'b', 'c', 'd']"
      ]
     },
     "execution_count": 21,
     "metadata": {},
     "output_type": "execute_result"
    }
   ],
   "source": [
    "b = ['d', 'a', 'b', 'c']\n",
    "b.sort()\n",
    "b"
   ]
  },
  {
   "cell_type": "code",
   "execution_count": 34,
   "id": "e373295e",
   "metadata": {},
   "outputs": [
    {
     "name": "stdout",
     "output_type": "stream",
     "text": [
      "None\n",
      "[1, 2, 3]\n"
     ]
    }
   ],
   "source": [
    "a = [3,1,2]\n",
    "print(a.sort())\n",
    "print(a)\n",
    "# None 주의"
   ]
  },
  {
   "cell_type": "markdown",
   "id": "6eb347d5",
   "metadata": {},
   "source": [
    "### reverse\n",
    "* 리스트.reverse()\n",
    "* 리스트를 역순으로 뒤집어 준다.\n",
    "* 순서대로 정렬 후 역순으로 뒤집는 것이 아니라, 현재 리스트를 그대로 뒤집는다."
   ]
  },
  {
   "cell_type": "code",
   "execution_count": 49,
   "id": "86f0d9ed",
   "metadata": {},
   "outputs": [
    {
     "data": {
      "text/plain": [
       "[2, 1, 3]"
      ]
     },
     "execution_count": 49,
     "metadata": {},
     "output_type": "execute_result"
    }
   ],
   "source": [
    "a = [3,1,2]\n",
    "a.reverse()\n",
    "a"
   ]
  },
  {
   "cell_type": "code",
   "execution_count": 48,
   "id": "aa8265fb",
   "metadata": {},
   "outputs": [
    {
     "data": {
      "text/plain": [
       "['c', 'b', 'a', 'd']"
      ]
     },
     "execution_count": 48,
     "metadata": {},
     "output_type": "execute_result"
    }
   ],
   "source": [
    "b = ['d', 'a', 'b', 'c']\n",
    "b.reverse()\n",
    "b"
   ]
  },
  {
   "cell_type": "markdown",
   "id": "0c3046f2",
   "metadata": {},
   "source": [
    "### index\n",
    "* 리스트.index(찾을요소)\n",
    "* 리스트에 찾을 요소가 있으면 그 요소의 위치 값을 돌려준다.\n",
    "* 존재 하지 않는 요소를 넣으면 _ValueError_ "
   ]
  },
  {
   "cell_type": "code",
   "execution_count": 57,
   "id": "f18ff982",
   "metadata": {},
   "outputs": [
    {
     "data": {
      "text/plain": [
       "2"
      ]
     },
     "execution_count": 57,
     "metadata": {},
     "output_type": "execute_result"
    }
   ],
   "source": [
    "a = [1,2,3,4,5]\n",
    "a.index(3)"
   ]
  },
  {
   "cell_type": "code",
   "execution_count": 59,
   "id": "4a28ce96",
   "metadata": {},
   "outputs": [
    {
     "ename": "ValueError",
     "evalue": "0 is not in list",
     "output_type": "error",
     "traceback": [
      "\u001b[1;31m---------------------------------------------------------------------------\u001b[0m",
      "\u001b[1;31mValueError\u001b[0m                                Traceback (most recent call last)",
      "Input \u001b[1;32mIn [59]\u001b[0m, in \u001b[0;36m<cell line: 2>\u001b[1;34m()\u001b[0m\n\u001b[0;32m      1\u001b[0m a \u001b[38;5;241m=\u001b[39m [\u001b[38;5;241m1\u001b[39m,\u001b[38;5;241m2\u001b[39m,\u001b[38;5;241m3\u001b[39m,\u001b[38;5;241m4\u001b[39m,\u001b[38;5;241m5\u001b[39m]\n\u001b[1;32m----> 2\u001b[0m \u001b[43ma\u001b[49m\u001b[38;5;241;43m.\u001b[39;49m\u001b[43mindex\u001b[49m\u001b[43m(\u001b[49m\u001b[38;5;241;43m0\u001b[39;49m\u001b[43m)\u001b[49m\n",
      "\u001b[1;31mValueError\u001b[0m: 0 is not in list"
     ]
    }
   ],
   "source": [
    "a = [1,2,3,4,5]\n",
    "a.index(0)\n",
    "# 존재 하지 않는 요소를 넣으면 ValueError"
   ]
  },
  {
   "cell_type": "markdown",
   "id": "609d7a19",
   "metadata": {},
   "source": [
    "### count\n",
    "* 리스트.count(찾을요소)\n",
    "* 리스트안에 찾을 요소가 몇개 있는지 조사하여 그 개수 돌려줌"
   ]
  },
  {
   "cell_type": "code",
   "execution_count": 60,
   "id": "7e94e9b7",
   "metadata": {},
   "outputs": [
    {
     "data": {
      "text/plain": [
       "3"
      ]
     },
     "execution_count": 60,
     "metadata": {},
     "output_type": "execute_result"
    }
   ],
   "source": [
    "a = [1,1,1,2,3,4,5]\n",
    "a.count(1)"
   ]
  },
  {
   "cell_type": "markdown",
   "id": "33f4f97d",
   "metadata": {},
   "source": [
    "### max\n",
    "* max(리스트)\n",
    "* 오름차순 마지막 값"
   ]
  },
  {
   "cell_type": "code",
   "execution_count": 61,
   "id": "57e45833",
   "metadata": {},
   "outputs": [
    {
     "data": {
      "text/plain": [
       "100"
      ]
     },
     "execution_count": 61,
     "metadata": {},
     "output_type": "execute_result"
    }
   ],
   "source": [
    "a = [1,100,4,77,36]\n",
    "max(a)"
   ]
  },
  {
   "cell_type": "code",
   "execution_count": 62,
   "id": "a2813b8d",
   "metadata": {},
   "outputs": [
    {
     "data": {
      "text/plain": [
       "'z'"
      ]
     },
     "execution_count": 62,
     "metadata": {},
     "output_type": "execute_result"
    }
   ],
   "source": [
    "a = ['z','b','k']\n",
    "max(a)"
   ]
  },
  {
   "cell_type": "markdown",
   "id": "c47cedf7",
   "metadata": {},
   "source": [
    "### min\n",
    "* min(리스트)\n",
    "* 오름차순 제일 처음 값"
   ]
  },
  {
   "cell_type": "code",
   "execution_count": 63,
   "id": "0376c8fa",
   "metadata": {},
   "outputs": [
    {
     "data": {
      "text/plain": [
       "1"
      ]
     },
     "execution_count": 63,
     "metadata": {},
     "output_type": "execute_result"
    }
   ],
   "source": [
    "a = [1,100,4,77,36]\n",
    "min(a)"
   ]
  },
  {
   "cell_type": "code",
   "execution_count": 64,
   "id": "cb059734",
   "metadata": {},
   "outputs": [
    {
     "data": {
      "text/plain": [
       "'b'"
      ]
     },
     "execution_count": 64,
     "metadata": {},
     "output_type": "execute_result"
    }
   ],
   "source": [
    "a = ['z','b','k']\n",
    "min(a)"
   ]
  },
  {
   "cell_type": "markdown",
   "id": "b002c3a4",
   "metadata": {},
   "source": [
    "### sum\n",
    "* sum(리스트)\n",
    "* 숫자로 만들어진 리스트 내부 값 전체의 합"
   ]
  },
  {
   "cell_type": "code",
   "execution_count": 65,
   "id": "e85c439f",
   "metadata": {},
   "outputs": [
    {
     "data": {
      "text/plain": [
       "15"
      ]
     },
     "execution_count": 65,
     "metadata": {},
     "output_type": "execute_result"
    }
   ],
   "source": [
    "a = [1,2,3,4,5]\n",
    "sum(a)"
   ]
  },
  {
   "cell_type": "code",
   "execution_count": 66,
   "id": "77bb36a1",
   "metadata": {},
   "outputs": [
    {
     "ename": "TypeError",
     "evalue": "unsupported operand type(s) for +: 'int' and 'str'",
     "output_type": "error",
     "traceback": [
      "\u001b[1;31m---------------------------------------------------------------------------\u001b[0m",
      "\u001b[1;31mTypeError\u001b[0m                                 Traceback (most recent call last)",
      "Input \u001b[1;32mIn [66]\u001b[0m, in \u001b[0;36m<cell line: 2>\u001b[1;34m()\u001b[0m\n\u001b[0;32m      1\u001b[0m a \u001b[38;5;241m=\u001b[39m [\u001b[38;5;124m'\u001b[39m\u001b[38;5;124ma\u001b[39m\u001b[38;5;124m'\u001b[39m,\u001b[38;5;124m'\u001b[39m\u001b[38;5;124mb\u001b[39m\u001b[38;5;124m'\u001b[39m,\u001b[38;5;124m'\u001b[39m\u001b[38;5;124mc\u001b[39m\u001b[38;5;124m'\u001b[39m]\n\u001b[1;32m----> 2\u001b[0m \u001b[38;5;28;43msum\u001b[39;49m\u001b[43m(\u001b[49m\u001b[43ma\u001b[49m\u001b[43m)\u001b[49m\n",
      "\u001b[1;31mTypeError\u001b[0m: unsupported operand type(s) for +: 'int' and 'str'"
     ]
    }
   ],
   "source": [
    "a = ['a','b','c']\n",
    "sum(a)\n",
    "# 숫자가 아니면 TypeError: unsupported operand type(s) for +: 'int' and 'str'"
   ]
  },
  {
   "cell_type": "code",
   "execution_count": 71,
   "id": "2a79a504",
   "metadata": {},
   "outputs": [
    {
     "data": {
      "text/plain": [
       "25"
      ]
     },
     "execution_count": 71,
     "metadata": {},
     "output_type": "execute_result"
    }
   ],
   "source": [
    "a = [1,2,3,4,5]\n",
    "sum(a,10)\n",
    "# 두번째 인자로 숫자를 넣으면 리스트 내부 값 전체의 합에 숫자를 더함"
   ]
  },
  {
   "cell_type": "markdown",
   "id": "05f1cf5d",
   "metadata": {},
   "source": [
    "### divmod\n",
    "* divmod(값, 나누기 숫자)\n",
    "* 첫번째 인자를 두번째 인자로 나눈 몫과 나머지를 튜플 형식으로 변환"
   ]
  },
  {
   "cell_type": "code",
   "execution_count": 74,
   "id": "485bf392",
   "metadata": {},
   "outputs": [
    {
     "data": {
      "text/plain": [
       "(5, 0)"
      ]
     },
     "execution_count": 74,
     "metadata": {},
     "output_type": "execute_result"
    }
   ],
   "source": [
    "divmod(10,2)"
   ]
  },
  {
   "cell_type": "code",
   "execution_count": 75,
   "id": "101a6883",
   "metadata": {},
   "outputs": [
    {
     "data": {
      "text/plain": [
       "(3, 1)"
      ]
     },
     "execution_count": 75,
     "metadata": {},
     "output_type": "execute_result"
    }
   ],
   "source": [
    "divmod(7,2)"
   ]
  },
  {
   "cell_type": "code",
   "execution_count": 78,
   "id": "3f8c31ec",
   "metadata": {},
   "outputs": [
    {
     "data": {
      "text/plain": [
       "(-4, 1)"
      ]
     },
     "execution_count": 78,
     "metadata": {},
     "output_type": "execute_result"
    }
   ],
   "source": [
    "divmod(-7,2)"
   ]
  },
  {
   "cell_type": "code",
   "execution_count": 79,
   "id": "eadae565",
   "metadata": {},
   "outputs": [
    {
     "data": {
      "text/plain": [
       "(-4, -1)"
      ]
     },
     "execution_count": 79,
     "metadata": {},
     "output_type": "execute_result"
    }
   ],
   "source": [
    "divmod(7,-2)"
   ]
  },
  {
   "cell_type": "code",
   "execution_count": 80,
   "id": "8d944b70",
   "metadata": {},
   "outputs": [
    {
     "data": {
      "text/plain": [
       "(3, -1)"
      ]
     },
     "execution_count": 80,
     "metadata": {},
     "output_type": "execute_result"
    }
   ],
   "source": [
    "divmod(-7,-2)"
   ]
  },
  {
   "cell_type": "code",
   "execution_count": 83,
   "id": "e398f458",
   "metadata": {},
   "outputs": [
    {
     "data": {
      "text/plain": [
       "(5.0, 0.8000000000000007)"
      ]
     },
     "execution_count": 83,
     "metadata": {},
     "output_type": "execute_result"
    }
   ],
   "source": [
    "divmod(10.8,2)"
   ]
  },
  {
   "cell_type": "code",
   "execution_count": 84,
   "id": "14f4cd17",
   "metadata": {},
   "outputs": [
    {
     "data": {
      "text/plain": [
       "(0.0, 1.4)"
      ]
     },
     "execution_count": 84,
     "metadata": {},
     "output_type": "execute_result"
    }
   ],
   "source": [
    "divmod(1.4,2)"
   ]
  },
  {
   "cell_type": "markdown",
   "id": "03bf3cef",
   "metadata": {},
   "source": [
    "### abs\n",
    "* abs(숫자)\n",
    "* 값을 절대값으로 변환"
   ]
  },
  {
   "cell_type": "code",
   "execution_count": 72,
   "id": "625a1bc9",
   "metadata": {},
   "outputs": [
    {
     "data": {
      "text/plain": [
       "1"
      ]
     },
     "execution_count": 72,
     "metadata": {},
     "output_type": "execute_result"
    }
   ],
   "source": [
    "abs(1)"
   ]
  },
  {
   "cell_type": "code",
   "execution_count": 73,
   "id": "ba2b2fd7",
   "metadata": {},
   "outputs": [
    {
     "data": {
      "text/plain": [
       "1"
      ]
     },
     "execution_count": 73,
     "metadata": {},
     "output_type": "execute_result"
    }
   ],
   "source": [
    "abs(-1)"
   ]
  },
  {
   "cell_type": "markdown",
   "id": "0582561b",
   "metadata": {},
   "source": [
    "### pow\n",
    "* pow(값,제곱값)\n",
    "* 값에 제곱하여 반환"
   ]
  },
  {
   "cell_type": "code",
   "execution_count": 86,
   "id": "7226e186",
   "metadata": {},
   "outputs": [
    {
     "data": {
      "text/plain": [
       "9"
      ]
     },
     "execution_count": 86,
     "metadata": {},
     "output_type": "execute_result"
    }
   ],
   "source": [
    "pow(3,2)"
   ]
  },
  {
   "cell_type": "code",
   "execution_count": 88,
   "id": "3f5f4e29",
   "metadata": {},
   "outputs": [
    {
     "data": {
      "text/plain": [
       "3.375"
      ]
     },
     "execution_count": 88,
     "metadata": {},
     "output_type": "execute_result"
    }
   ],
   "source": [
    "pow(1.5,3)"
   ]
  }
 ],
 "metadata": {
  "kernelspec": {
   "display_name": "Python 3 (ipykernel)",
   "language": "python",
   "name": "python3"
  },
  "language_info": {
   "codemirror_mode": {
    "name": "ipython",
    "version": 3
   },
   "file_extension": ".py",
   "mimetype": "text/x-python",
   "name": "python",
   "nbconvert_exporter": "python",
   "pygments_lexer": "ipython3",
   "version": "3.9.13"
  },
  "toc": {
   "base_numbering": 1,
   "nav_menu": {},
   "number_sections": true,
   "sideBar": true,
   "skip_h1_title": false,
   "title_cell": "Table of Contents",
   "title_sidebar": "Contents",
   "toc_cell": false,
   "toc_position": {},
   "toc_section_display": true,
   "toc_window_display": false
  }
 },
 "nbformat": 4,
 "nbformat_minor": 5
}
