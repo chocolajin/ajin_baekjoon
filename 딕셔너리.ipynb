{
 "cells": [
  {
   "cell_type": "markdown",
   "id": "cc3337fd",
   "metadata": {},
   "source": [
    "딕셔너리 정렬\n",
    "\n",
    "\n",
    "* Key를 기준으로 정렬 (오름차순)\n",
    " * sorted(딕셔너리.items())\n",
    "a = {'c': 3, 'a': 1, 'b': 2, 'e': 1, 'd': 2}\n",
    "b = sorted(a.items())\n",
    "b\n",
    "**_sorted()는 다음과 같이 Tuple pair로 이루어진 List를 리턴합니다._**\n",
    "[('a', 1), ('b', 2), ('c', 3), ('d', 2), ('e', 1)]\n",
    "#참고로, my_dict.items()를 출력해보면 다음과 같이 Tuple pair로 이루어진 List가 리턴됩니다.\n",
    "print(my_dict.items())\n",
    "Output:\n",
    "dict_items([('c', 3), ('a', 1), ('b', 2), ('e', 1), ('d', 2)])\n",
    "\n",
    "\n",
    "\n",
    "\n",
    "* Key를 기준으로 정렬 (내림차순)\n",
    " * sorted(딕셔너리.items(),key = lambda item: item[0], reverse = True)\n",
    " \n",
    "item[0]는 dict의 key를 의미합니다.\n",
    "a = {'c': 3, 'a': 1, 'b': 2, 'e': 1, 'd': 2}\n",
    "b = sorted(a.items(), key = lambda item: item[0], reverse = True)\n",
    "b\n",
    "[('e', 1), ('d', 2), ('c', 3), ('b', 2), ('a', 1)]\n",
    "\n",
    "\n",
    "\n",
    "\n",
    "\n",
    "* Value를 기준으로 정렬 (오름차순)\n",
    " * sorted(딕셔너리.items(),key = lambda item: item[1])\n",
    " \n",
    "item[1]은 dict의 Value를 의미\n",
    "a = {'c': 3, 'a': 1, 'b': 2, 'e': 1, 'd': 2}\n",
    "b = sorted(a.items(), key = lambda item: item[1])\n",
    "b\n",
    "[('a', 1), ('e', 1), ('b', 2), ('d', 2), ('c', 3)]\n",
    "\n",
    "\n",
    "\n",
    "\n",
    "* Value를 기준으로 정렬 (내림차순)\n",
    " * sorted(딕셔너리.items(),key = lambda item: item[1], reverse = True)\n",
    "a = {'c': 3, 'a': 1, 'b': 2, 'e': 1, 'd': 2}\n",
    "b = sorted(a.items(), key = lambda item: item[1],reverse = True )\n",
    "b\n",
    "[('c', 3), ('b', 2), ('d', 2), ('a', 1), ('e', 1)]\n"
   ]
  }
 ],
 "metadata": {
  "kernelspec": {
   "display_name": "Python 3 (ipykernel)",
   "language": "python",
   "name": "python3"
  },
  "language_info": {
   "codemirror_mode": {
    "name": "ipython",
    "version": 3
   },
   "file_extension": ".py",
   "mimetype": "text/x-python",
   "name": "python",
   "nbconvert_exporter": "python",
   "pygments_lexer": "ipython3",
   "version": "3.9.13"
  },
  "toc": {
   "base_numbering": 1,
   "nav_menu": {},
   "number_sections": true,
   "sideBar": true,
   "skip_h1_title": false,
   "title_cell": "Table of Contents",
   "title_sidebar": "Contents",
   "toc_cell": false,
   "toc_position": {},
   "toc_section_display": true,
   "toc_window_display": false
  }
 },
 "nbformat": 4,
 "nbformat_minor": 5
}
